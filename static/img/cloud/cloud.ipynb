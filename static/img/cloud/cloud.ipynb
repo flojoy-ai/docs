{
 "cells": [
  {
   "cell_type": "code",
   "execution_count": 1,
   "id": "366f135e-03e9-4967-96a5-fd71a63df63d",
   "metadata": {},
   "outputs": [],
   "source": [
    "from flojoy.flojoy_cloud import FlojoyCloud\n",
    "from PIL import Image\n",
    "import json\n",
    "from flojoy import utils\n",
    "import os\n",
    "import requests\n",
    "import pandas as pd\n",
    "import numpy as np"
   ]
  },
  {
   "cell_type": "code",
   "execution_count": 2,
   "id": "c4d71a2d",
   "metadata": {},
   "outputs": [],
   "source": [
    "# To save the api key as an environment variable:\n",
    "# os.environ['FLOJOY_CLOUD_KEY'] = 'key_example'\n",
    "\n",
    "# apikey = os.getenv('FLOJOY_CLOUD_KEY')\n",
    "\n",
    "\n",
    "# Alternatively to load and save:\n",
    "# To save:\n",
    "# path = os.path.expanduser('~')\n",
    "# with open(f\"{path}/.flojoy/cloud_key.txt\", 'w') as f:\n",
    "#     f.write('key_example')\n",
    "\n",
    "# To load:\n",
    "path = os.path.expanduser('~')\n",
    "with open(f'{path}/.flojoy/cloud_key.txt', 'r') as f:\n",
    "    apikey = f.read()"
   ]
  },
  {
   "cell_type": "code",
   "execution_count": 3,
   "id": "02c96f03",
   "metadata": {},
   "outputs": [
    {
     "name": "stdout",
     "output_type": "stream",
     "text": [
      "meas_374051816489353284\n"
     ]
    }
   ],
   "source": [
    "# initializing the cloud\n",
    "remote = FlojoyCloud(apikey=apikey)\n",
    "\n",
    "# You must first create a measurement to store Datacontainers in.\n",
    "response = remote.create_measurement(name=\"20230825\", privacy=\"private\")\n",
    "\n",
    "meas_id = response['ref']\n",
    "print(meas_id)"
   ]
  },
  {
   "cell_type": "code",
   "execution_count": 4,
   "id": "0ea30d2d",
   "metadata": {},
   "outputs": [
    {
     "name": "stdout",
     "output_type": "stream",
     "text": [
      "<class 'pandas.core.frame.DataFrame'>    0  1  2  3  4\n",
      "0  1  1  1  1  1\n",
      "1  1  1  1  1  1\n",
      "2  1  1  1  1  1\n",
      "3  1  1  1  1  1\n",
      "4  1  1  1  1  1\n"
     ]
    }
   ],
   "source": [
    "# initializing the cloud\n",
    "remote = FlojoyCloud(apikey=apikey)\n",
    "\n",
    "# storing a dc in a measurement\n",
    "x = np.ones((5, 5))\n",
    "df = pd.DataFrame(x)\n",
    "dcid = remote.store_dc(df, \"DataFrame\", meas_id)\n",
    "\n",
    "# fetching a dc from the cloud\n",
    "my_data_container = remote.fetch_dc(dc_id=dcid['ref'])\n",
    "dc = remote.to_python(dc=my_data_container)\n",
    "print(type(dc), dc)"
   ]
  },
  {
   "cell_type": "code",
   "execution_count": 5,
   "id": "a2d4589d-3c9f-4430-8cc1-d6c77bea87d8",
   "metadata": {},
   "outputs": [
    {
     "name": "stdout",
     "output_type": "stream",
     "text": [
      "<class 'PIL.Image.Image'> <PIL.Image.Image image mode=RGB size=2x2 at 0x7F2A8F5CE230>\n"
     ]
    }
   ],
   "source": [
    "# initializing the cloud\n",
    "remote = FlojoyCloud(apikey=apikey)\n",
    "\n",
    "# storing a dc in the cloud\n",
    "im = [[12,14],[5,12]]\n",
    "image = np.stack((im, im, im, im), axis=2)\n",
    "image = Image.fromarray(np.uint8(image)).convert('RGB')\n",
    "dcid = remote.store_dc(image, \"Image\", meas_id)\n",
    "\n",
    "# fetching a dc from the cloud\n",
    "my_data_container = remote.fetch_dc(dc_id=dcid['ref'])\n",
    "dc = remote.to_python(dc=my_data_container)\n",
    "print(type(dc), dc)"
   ]
  },
  {
   "cell_type": "code",
   "execution_count": 6,
   "id": "21985392-4808-4f3f-8d3c-ee7860dd22c1",
   "metadata": {},
   "outputs": [
    {
     "name": "stdout",
     "output_type": "stream",
     "text": [
      "<class 'pandas.core.frame.DataFrame'>     0   1\n",
      "0  12  14\n",
      "1   5  12\n"
     ]
    }
   ],
   "source": [
    "# initializing the cloud\n",
    "remote = FlojoyCloud(apikey=apikey)\n",
    "\n",
    "# storing a dc in the cloud\n",
    "im = [[12,14], [5,12]]\n",
    "dcid = remote.store_dc(im, \"Matrix\", meas_id)\n",
    "\n",
    "# fetching a dc from the cloud\n",
    "my_data_container = remote.fetch_dc(dc_id=dcid['ref'])\n",
    "dc = remote.to_python(dc=my_data_container)\n",
    "print(type(dc), dc)"
   ]
  },
  {
   "cell_type": "code",
   "execution_count": 8,
   "id": "be67da9d",
   "metadata": {},
   "outputs": [
    {
     "name": "stdout",
     "output_type": "stream",
     "text": [
      "<class 'pandas.core.frame.DataFrame'>     0   1\n",
      "0  12  14\n",
      "1   5  12\n"
     ]
    }
   ],
   "source": [
    "# initializing the cloud\n",
    "remote = FlojoyCloud(apikey=apikey)\n",
    "\n",
    "# storing a dc in the cloud\n",
    "im = [[12,14], [5,12]]\n",
    "dcid = remote.store_dc(im, \"Grayscale\", meas_id)\n",
    "\n",
    "# fetching a dc from the cloud\n",
    "my_data_container = remote.fetch_dc(dc_id=dcid['ref'])\n",
    "dc = remote.to_python(dc=my_data_container)\n",
    "print(type(dc), dc)"
   ]
  },
  {
   "cell_type": "code",
   "execution_count": 9,
   "id": "1a8ed292",
   "metadata": {},
   "outputs": [
    {
     "name": "stdout",
     "output_type": "stream",
     "text": [
      "<class 'pandas.core.frame.DataFrame'>            x          y\n",
      "0   0.000000   0.000000\n",
      "1   1.111111   1.111111\n",
      "2   2.222222   2.222222\n",
      "3   3.333333   3.333333\n",
      "4   4.444444   4.444444\n",
      "5   5.555556   5.555556\n",
      "6   6.666667   6.666667\n",
      "7   7.777778   7.777778\n",
      "8   8.888889   8.888889\n",
      "9  10.000000  10.000000\n"
     ]
    }
   ],
   "source": [
    "# initializing the cloud\n",
    "remote = FlojoyCloud(apikey=apikey)\n",
    "\n",
    "# storing a dc in the cloud\n",
    "x = np.linspace(0, 10, 10)\n",
    "y = np.linspace(0, 10, 10)\n",
    "data = {\"x\": x, \"y\": y}\n",
    "dcid = remote.store_dc(data, \"OrderedPair\", meas_id)\n",
    "\n",
    "# fetching a dc from the cloud\n",
    "my_data_container = remote.fetch_dc(dc_id=dcid['ref'])\n",
    "dc = remote.to_python(dc=my_data_container)\n",
    "print(type(dc), dc)"
   ]
  },
  {
   "cell_type": "code",
   "execution_count": 10,
   "id": "1e5f1e18",
   "metadata": {},
   "outputs": [
    {
     "name": "stdout",
     "output_type": "stream",
     "text": [
      "{'ref': 'dc_374051880997748801', 'dataContainer': {'type': 'Scalar', 'c': 1.1}, 'time': '2023-08-25T16:55:21.000Z', 'workspaceId': 'user_2Ti2VWLHrwCLUwGk12RVEBKVdur', 'location': 'meas_374051816489353284', 'note': ''}\n",
      "<class 'float'> 1.1\n"
     ]
    }
   ],
   "source": [
    "# initializing the cloud\n",
    "remote = FlojoyCloud(apikey=apikey)\n",
    "\n",
    "# storing a dc in the cloud\n",
    "data = 1.1\n",
    "dcid = remote.store_dc(data, \"Scalar\", meas_id)\n",
    "print(dcid)\n",
    "\n",
    "# fetching a dc from the cloud\n",
    "my_data_container = remote.fetch_dc(dc_id=dcid['ref'])\n",
    "dc = remote.to_python(dc=my_data_container)\n",
    "print(type(dc), dc)"
   ]
  },
  {
   "cell_type": "code",
   "execution_count": 11,
   "id": "a62089e0",
   "metadata": {},
   "outputs": [
    {
     "name": "stdout",
     "output_type": "stream",
     "text": [
      "<class 'pandas.core.frame.DataFrame'>            x          y          z\n",
      "0   0.000000   0.000000   0.000000\n",
      "1   1.111111   1.111111   1.111111\n",
      "2   2.222222   2.222222   2.222222\n",
      "3   3.333333   3.333333   3.333333\n",
      "4   4.444444   4.444444   4.444444\n",
      "5   5.555556   5.555556   5.555556\n",
      "6   6.666667   6.666667   6.666667\n",
      "7   7.777778   7.777778   7.777778\n",
      "8   8.888889   8.888889   8.888889\n",
      "9  10.000000  10.000000  10.000000\n"
     ]
    }
   ],
   "source": [
    "# initializing the cloud\n",
    "remote = FlojoyCloud(apikey=apikey)\n",
    "\n",
    "# storing a dc in the cloud\n",
    "x = np.linspace(0, 10, 10)\n",
    "y = np.linspace(0, 10, 10)\n",
    "z = np.linspace(0, 10, 10)\n",
    "data = {\"x\": x, \"y\": y, \"z\": z}\n",
    "dcid = remote.store_dc(data, \"OrderedTriple\", meas_id)\n",
    "\n",
    "# fetching a dc from the cloud\n",
    "my_data_container = remote.fetch_dc(dc_id=dcid['ref'])\n",
    "dc = remote.to_python(dc=my_data_container)\n",
    "print(type(dc), dc)"
   ]
  },
  {
   "cell_type": "code",
   "execution_count": 15,
   "id": "e35c9a12",
   "metadata": {},
   "outputs": [
    {
     "name": "stdout",
     "output_type": "stream",
     "text": [
      "11\n"
     ]
    }
   ],
   "source": [
    "allin = remote.list_measurements(100)\n",
    "print(len(allin))"
   ]
  },
  {
   "cell_type": "code",
   "execution_count": null,
   "id": "50f3fabc",
   "metadata": {},
   "outputs": [],
   "source": []
  }
 ],
 "metadata": {
  "kernelspec": {
   "display_name": "Python 3 (ipykernel)",
   "language": "python",
   "name": "python3"
  },
  "language_info": {
   "codemirror_mode": {
    "name": "ipython",
    "version": 3
   },
   "file_extension": ".py",
   "mimetype": "text/x-python",
   "name": "python",
   "nbconvert_exporter": "python",
   "pygments_lexer": "ipython3",
   "version": "3.10.9"
  }
 },
 "nbformat": 4,
 "nbformat_minor": 5
}
