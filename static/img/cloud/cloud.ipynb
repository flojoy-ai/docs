{
 "cells": [
  {
   "cell_type": "code",
   "execution_count": 1,
   "id": "366f135e-03e9-4967-96a5-fd71a63df63d",
   "metadata": {},
   "outputs": [
    {
     "name": "stderr",
     "output_type": "stream",
     "text": [
      "/home/dal/miniconda3/envs/flojoy/lib/python3.10/site-packages/tqdm/auto.py:21: TqdmWarning: IProgress not found. Please update jupyter and ipywidgets. See https://ipywidgets.readthedocs.io/en/stable/user_install.html\n",
      "  from .autonotebook import tqdm as notebook_tqdm\n"
     ]
    }
   ],
   "source": [
    "from flojoy.flojoy_cloud import FlojoyCloud\n",
    "from PIL import Image\n",
    "import json\n",
    "from flojoy import utils\n",
    "import os\n",
    "import requests\n",
    "import pandas as pd\n",
    "import numpy as np"
   ]
  },
  {
   "cell_type": "code",
   "execution_count": null,
   "id": "c4d71a2d",
   "metadata": {},
   "outputs": [],
   "source": [
    "# To save the api key as an environment variable:\n",
    "# os.environ['FLOJOY_CLOUD_KEY'] = 'key_example'\n",
    "\n",
    "apikey = os.getenv('FLOJOY_CLOUD_KEY')\n",
    "\n",
    "\n",
    "# Alternatively to load and save:\n",
    "# To save:\n",
    "# with open(f\"{os.path.expanduser('~')}/.flojoy/cloud_key.txt\", 'w') as f:\n",
    "#     f.write('key_example')\n",
    "\n",
    "# To load:\n",
    "# with open(f'{os.path.expanduser('~')}/.flojoy/cloud_key.txt', 'r') as f:\n",
    "#     apikey = f.read()"
   ]
  },
  {
   "cell_type": "code",
   "execution_count": 2,
   "id": "0ea30d2d",
   "metadata": {},
   "outputs": [
    {
     "name": "stdout",
     "output_type": "stream",
     "text": [
      "<class 'pandas.core.frame.DataFrame'>    0  1  2  3  4\n",
      "0  1  1  1  1  1\n",
      "1  1  1  1  1  1\n",
      "2  1  1  1  1  1\n",
      "3  1  1  1  1  1\n",
      "4  1  1  1  1  1\n"
     ]
    }
   ],
   "source": [
    "# initializing the cloud\n",
    "remote = FlojoyCloud(apikey=apikey)\n",
    "\n",
    "# storing a dc in the cloud\n",
    "x = np.ones((5, 5))\n",
    "df = pd.DataFrame(x)\n",
    "dcid = remote.store_dc(df, \"DataFrame\")\n",
    "\n",
    "# fetching a dc from the cloud\n",
    "my_data_container = remote.fetch_dc(dc_id=dcid['dc_id'])\n",
    "dc = remote.to_python(dc=my_data_container)\n",
    "print(type(dc), dc)"
   ]
  },
  {
   "cell_type": "code",
   "execution_count": 3,
   "id": "a2d4589d-3c9f-4430-8cc1-d6c77bea87d8",
   "metadata": {},
   "outputs": [
    {
     "name": "stdout",
     "output_type": "stream",
     "text": [
      "<class 'PIL.Image.Image'> <PIL.Image.Image image mode=RGB size=2x2 at 0x7F8F1EDCA740>\n"
     ]
    }
   ],
   "source": [
    "# initializing the cloud\n",
    "remote = FlojoyCloud(apikey=apikey)\n",
    "\n",
    "# storing a dc in the cloud\n",
    "im = [[12,14],[5,12]]\n",
    "image = np.stack((im, im, im, im), axis=2)\n",
    "image = Image.fromarray(np.uint8(image)).convert('RGB')\n",
    "dcid = remote.store_dc(image, \"Image\")\n",
    "\n",
    "# fetching a dc from the cloud\n",
    "my_data_container = remote.fetch_dc(dc_id=dcid['dc_id'])\n",
    "dc = remote.to_python(dc=my_data_container)\n",
    "print(type(dc), dc)"
   ]
  },
  {
   "cell_type": "code",
   "execution_count": 4,
   "id": "21985392-4808-4f3f-8d3c-ee7860dd22c1",
   "metadata": {},
   "outputs": [
    {
     "name": "stdout",
     "output_type": "stream",
     "text": [
      "<class 'pandas.core.frame.DataFrame'>     0   1\n",
      "0  12  14\n",
      "1   5  12\n"
     ]
    }
   ],
   "source": [
    "# initializing the cloud\n",
    "remote = FlojoyCloud(apikey=apikey)\n",
    "\n",
    "# storing a dc in the cloud\n",
    "im = [[12,14], [5,12]]\n",
    "dcid = remote.store_dc(im, \"Matrix\")\n",
    "\n",
    "# fetching a dc from the cloud\n",
    "my_data_container = remote.fetch_dc(dc_id=dcid['dc_id'])\n",
    "dc = remote.to_python(dc=my_data_container)\n",
    "print(type(dc), dc)"
   ]
  },
  {
   "cell_type": "code",
   "execution_count": 6,
   "id": "be67da9d",
   "metadata": {},
   "outputs": [
    {
     "name": "stdout",
     "output_type": "stream",
     "text": [
      "<class 'pandas.core.frame.DataFrame'>     0   1\n",
      "0  12  14\n",
      "1   5  12\n"
     ]
    }
   ],
   "source": [
    "# initializing the cloud\n",
    "remote = FlojoyCloud(apikey=apikey)\n",
    "\n",
    "# storing a dc in the cloud\n",
    "im = [[12,14], [5,12]]\n",
    "dcid = remote.store_dc(im, \"Grayscale\")\n",
    "\n",
    "# fetching a dc from the cloud\n",
    "my_data_container = remote.fetch_dc(dc_id=dcid['dc_id'])\n",
    "dc = remote.to_python(dc=my_data_container)\n",
    "print(type(dc), dc)"
   ]
  },
  {
   "cell_type": "code",
   "execution_count": 7,
   "id": "1a8ed292",
   "metadata": {},
   "outputs": [
    {
     "name": "stdout",
     "output_type": "stream",
     "text": [
      "<class 'pandas.core.frame.DataFrame'>            x          y\n",
      "0   0.000000   0.000000\n",
      "1   1.111111   1.111111\n",
      "2   2.222222   2.222222\n",
      "3   3.333333   3.333333\n",
      "4   4.444444   4.444444\n",
      "5   5.555556   5.555556\n",
      "6   6.666667   6.666667\n",
      "7   7.777778   7.777778\n",
      "8   8.888889   8.888889\n",
      "9  10.000000  10.000000\n"
     ]
    }
   ],
   "source": [
    "# initializing the cloud\n",
    "remote = FlojoyCloud(apikey=apikey)\n",
    "\n",
    "# storing a dc in the cloud\n",
    "x = np.linspace(0, 10, 10)\n",
    "y = np.linspace(0, 10, 10)\n",
    "data = {\"x\": x, \"y\": y}\n",
    "dcid = remote.store_dc(data, \"OrderedPair\")\n",
    "\n",
    "# fetching a dc from the cloud\n",
    "my_data_container = remote.fetch_dc(dc_id=dcid['dc_id'])\n",
    "dc = remote.to_python(dc=my_data_container)\n",
    "print(type(dc), dc)"
   ]
  },
  {
   "cell_type": "code",
   "execution_count": 8,
   "id": "1e5f1e18",
   "metadata": {},
   "outputs": [
    {
     "name": "stdout",
     "output_type": "stream",
     "text": [
      "{'dc_id': 'dc_373323497733095492'}\n",
      "<class 'float'> 1.1\n"
     ]
    }
   ],
   "source": [
    "# initializing the cloud\n",
    "remote = FlojoyCloud(apikey=apikey)\n",
    "\n",
    "# storing a dc in the cloud\n",
    "data = 1.1\n",
    "dcid = remote.store_dc(data, \"Scalar\")\n",
    "print(dcid)\n",
    "\n",
    "# fetching a dc from the cloud\n",
    "my_data_container = remote.fetch_dc(dc_id=dcid['dc_id'])\n",
    "dc = remote.to_python(dc=my_data_container)\n",
    "print(type(dc), dc)"
   ]
  },
  {
   "cell_type": "code",
   "execution_count": 9,
   "id": "a62089e0",
   "metadata": {},
   "outputs": [
    {
     "name": "stdout",
     "output_type": "stream",
     "text": [
      "<class 'pandas.core.frame.DataFrame'>            x          y          z\n",
      "0   0.000000   0.000000   0.000000\n",
      "1   1.111111   1.111111   1.111111\n",
      "2   2.222222   2.222222   2.222222\n",
      "3   3.333333   3.333333   3.333333\n",
      "4   4.444444   4.444444   4.444444\n",
      "5   5.555556   5.555556   5.555556\n",
      "6   6.666667   6.666667   6.666667\n",
      "7   7.777778   7.777778   7.777778\n",
      "8   8.888889   8.888889   8.888889\n",
      "9  10.000000  10.000000  10.000000\n"
     ]
    }
   ],
   "source": [
    "# initializing the cloud\n",
    "remote = FlojoyCloud(apikey=apikey)\n",
    "\n",
    "# storing a dc in the cloud\n",
    "x = np.linspace(0, 10, 10)\n",
    "y = np.linspace(0, 10, 10)\n",
    "z = np.linspace(0, 10, 10)\n",
    "data = {\"x\": x, \"y\": y, \"z\": z}\n",
    "dcid = remote.store_dc(data, \"OrderedTriple\")\n",
    "\n",
    "# fetching a dc from the cloud\n",
    "my_data_container = remote.fetch_dc(dc_id=dcid['dc_id'])\n",
    "dc = remote.to_python(dc=my_data_container)\n",
    "print(type(dc), dc)"
   ]
  },
  {
   "cell_type": "code",
   "execution_count": 2,
   "id": "719a4b9f",
   "metadata": {},
   "outputs": [
    {
     "data": {
      "text/plain": [
       "[{'ref': 'dc_373681050613710916',\n",
       "  'dataContainer': {'type': 'Matrix', 'm': [[12, 14], [5, 12]]},\n",
       "  'metadata': {'time': '2023-08-21T14:41:10.000Z'},\n",
       "  'workspaceId': 'user_2Ti2VWLHrwCLUwGk12RVEBKVdur',\n",
       "  'privacy': 'private',\n",
       "  'location': '/',\n",
       "  'note': ''},\n",
       " {'ref': 'dc_373681018026065988',\n",
       "  'dataContainer': {'type': 'Matrix', 'm': [[12, 14], [5, 12]]},\n",
       "  'metadata': {'time': '2023-08-21T14:40:39.000Z'},\n",
       "  'workspaceId': 'user_2Ti2VWLHrwCLUwGk12RVEBKVdur',\n",
       "  'privacy': 'private',\n",
       "  'location': '/',\n",
       "  'note': ''},\n",
       " {'ref': 'dc_373680930282274881',\n",
       "  'dataContainer': {'type': 'Matrix', 'm': [[12, 14], [5, 12]]},\n",
       "  'metadata': {'time': '2023-08-21T14:39:15.000Z'},\n",
       "  'workspaceId': 'user_2Ti2VWLHrwCLUwGk12RVEBKVdur',\n",
       "  'privacy': 'private',\n",
       "  'location': '/',\n",
       "  'note': ''},\n",
       " {'ref': 'dc_373680902503399492',\n",
       "  'dataContainer': {'type': 'Matrix', 'm': [[12, 14], [5, 12]]},\n",
       "  'metadata': {'time': '2023-08-21T14:38:49.000Z'},\n",
       "  'workspaceId': 'user_2Ti2VWLHrwCLUwGk12RVEBKVdur',\n",
       "  'privacy': 'private',\n",
       "  'location': '/',\n",
       "  'note': ''},\n",
       " {'ref': 'dc_373680887475208260',\n",
       "  'dataContainer': {'type': 'Matrix', 'm': [[12, 14], [5, 12]]},\n",
       "  'metadata': {'time': '2023-08-21T14:38:34.000Z'},\n",
       "  'workspaceId': 'user_2Ti2VWLHrwCLUwGk12RVEBKVdur',\n",
       "  'privacy': 'private',\n",
       "  'location': '/',\n",
       "  'note': ''},\n",
       " {'ref': 'dc_373679662837006404',\n",
       "  'dataContainer': {'type': 'Matrix', 'm': [[12, 14], [5, 12]]},\n",
       "  'metadata': {'time': '2023-08-21T14:19:06.000Z'},\n",
       "  'workspaceId': 'user_2Ti2VWLHrwCLUwGk12RVEBKVdur',\n",
       "  'privacy': 'private',\n",
       "  'location': '/',\n",
       "  'note': ''},\n",
       " {'ref': 'dc_373429657787170881',\n",
       "  'dataContainer': {'type': 'DataFrame',\n",
       "   'm': {'0': {'0': 1, '1': 1, '2': 1, '3': 1, '4': 1},\n",
       "    '1': {'0': 1, '1': 1, '2': 1, '3': 1, '4': 1},\n",
       "    '2': {'0': 1, '1': 1, '2': 1, '3': 1, '4': 1},\n",
       "    '3': {'0': 1, '1': 1, '2': 1, '3': 1, '4': 1},\n",
       "    '4': {'0': 1, '1': 1, '2': 1, '3': 1, '4': 1}}},\n",
       "  'metadata': {'time': '2023-08-18T20:05:23.000Z'},\n",
       "  'workspaceId': 'user_2Ti2VWLHrwCLUwGk12RVEBKVdur',\n",
       "  'privacy': 'private',\n",
       "  'location': '/',\n",
       "  'note': ''},\n",
       " {'ref': 'dc_373429115858976836',\n",
       "  'dataContainer': {'type': 'Matrix', 'm': [[12, 14], [5, 12]]},\n",
       "  'metadata': {'time': '2023-08-18T19:56:46.000Z'},\n",
       "  'workspaceId': 'user_2Ti2VWLHrwCLUwGk12RVEBKVdur',\n",
       "  'privacy': 'private',\n",
       "  'location': '/',\n",
       "  'note': ''},\n",
       " {'ref': 'dc_373423785774153793',\n",
       "  'dataContainer': {'type': 'DataFrame',\n",
       "   'm': {'0': {'0': 1, '1': 1, '2': 1, '3': 1, '4': 1},\n",
       "    '1': {'0': 1, '1': 1, '2': 1, '3': 1, '4': 1},\n",
       "    '2': {'0': 1, '1': 1, '2': 1, '3': 1, '4': 1},\n",
       "    '3': {'0': 1, '1': 1, '2': 1, '3': 1, '4': 1},\n",
       "    '4': {'0': 1, '1': 1, '2': 1, '3': 1, '4': 1}}},\n",
       "  'metadata': {'time': '2023-08-18T18:32:03.000Z'},\n",
       "  'workspaceId': 'user_2Ti2VWLHrwCLUwGk12RVEBKVdur',\n",
       "  'privacy': 'private',\n",
       "  'location': '/',\n",
       "  'note': ''},\n",
       " {'ref': 'dc_373419403141709889',\n",
       "  'dataContainer': {'type': 'Matrix', 'm': [[12, 14], [5, 12]]},\n",
       "  'metadata': {'time': '2023-08-18T17:22:23.000Z'},\n",
       "  'workspaceId': 'user_2Ti2VWLHrwCLUwGk12RVEBKVdur',\n",
       "  'privacy': 'private',\n",
       "  'location': '/',\n",
       "  'note': ''},\n",
       " {'ref': 'dc_373419372793823297',\n",
       "  'dataContainer': {'type': 'Matrix', 'm': [[12, 14], [5, 12]]},\n",
       "  'metadata': {'time': '2023-08-18T17:21:54.000Z'},\n",
       "  'workspaceId': 'user_2Ti2VWLHrwCLUwGk12RVEBKVdur',\n",
       "  'privacy': 'private',\n",
       "  'location': '/',\n",
       "  'note': ''},\n",
       " {'ref': 'dc_373419085713637441',\n",
       "  'dataContainer': {'type': 'Matrix', 'm': [[12, 14], [5, 12]]},\n",
       "  'metadata': {'time': '2023-08-18T17:17:21.000Z'},\n",
       "  'workspaceId': 'user_2Ti2VWLHrwCLUwGk12RVEBKVdur',\n",
       "  'privacy': 'private',\n",
       "  'location': '/',\n",
       "  'note': ''},\n",
       " {'ref': 'dc_373419006382571588',\n",
       "  'dataContainer': {'type': 'Matrix', 'm': [[12, 14], [5, 12]]},\n",
       "  'metadata': {'time': '2023-08-18T17:16:04.000Z'},\n",
       "  'workspaceId': 'user_2Ti2VWLHrwCLUwGk12RVEBKVdur',\n",
       "  'privacy': 'private',\n",
       "  'location': '/',\n",
       "  'note': ''},\n",
       " {'ref': 'dc_373418950486130753',\n",
       "  'dataContainer': {'type': 'Matrix', 'm': [[12, 14], [5, 12]]},\n",
       "  'metadata': {'time': '2023-08-18T17:15:12.000Z'},\n",
       "  'workspaceId': 'user_2Ti2VWLHrwCLUwGk12RVEBKVdur',\n",
       "  'privacy': 'private',\n",
       "  'location': '/',\n",
       "  'note': ''},\n",
       " {'ref': 'dc_373418933253832772',\n",
       "  'dataContainer': {'type': 'Matrix', 'm': [[12, 14], [5, 12]]},\n",
       "  'metadata': {'time': '2023-08-18T17:14:55.000Z'},\n",
       "  'workspaceId': 'user_2Ti2VWLHrwCLUwGk12RVEBKVdur',\n",
       "  'privacy': 'private',\n",
       "  'location': '/',\n",
       "  'note': ''},\n",
       " {'ref': 'dc_373418921405972548',\n",
       "  'dataContainer': {'type': 'DataFrame',\n",
       "   'm': {'0': {'0': 1, '1': 1, '2': 1, '3': 1, '4': 1},\n",
       "    '1': {'0': 1, '1': 1, '2': 1, '3': 1, '4': 1},\n",
       "    '2': {'0': 1, '1': 1, '2': 1, '3': 1, '4': 1},\n",
       "    '3': {'0': 1, '1': 1, '2': 1, '3': 1, '4': 1},\n",
       "    '4': {'0': 1, '1': 1, '2': 1, '3': 1, '4': 1}}},\n",
       "  'metadata': {'time': '2023-08-18T17:14:44.000Z'},\n",
       "  'workspaceId': 'user_2Ti2VWLHrwCLUwGk12RVEBKVdur',\n",
       "  'privacy': 'private',\n",
       "  'location': '/',\n",
       "  'note': ''},\n",
       " {'ref': 'dc_373418785814609988',\n",
       "  'dataContainer': {'type': 'DataFrame',\n",
       "   'm': {'0': {'0': 1, '1': 1, '2': 1, '3': 1, '4': 1},\n",
       "    '1': {'0': 1, '1': 1, '2': 1, '3': 1, '4': 1},\n",
       "    '2': {'0': 1, '1': 1, '2': 1, '3': 1, '4': 1},\n",
       "    '3': {'0': 1, '1': 1, '2': 1, '3': 1, '4': 1},\n",
       "    '4': {'0': 1, '1': 1, '2': 1, '3': 1, '4': 1}}},\n",
       "  'metadata': {'time': '2023-08-18T17:12:35.000Z'},\n",
       "  'workspaceId': 'user_2Ti2VWLHrwCLUwGk12RVEBKVdur',\n",
       "  'privacy': 'private',\n",
       "  'location': '/',\n",
       "  'note': ''},\n",
       " {'ref': 'dc_373418758557925444',\n",
       "  'dataContainer': {'type': 'Matrix', 'm': [[12, 14], [5, 12]]},\n",
       "  'metadata': {'time': '2023-08-18T17:12:09.000Z'},\n",
       "  'workspaceId': 'user_2Ti2VWLHrwCLUwGk12RVEBKVdur',\n",
       "  'privacy': 'private',\n",
       "  'location': '/',\n",
       "  'note': ''},\n",
       " {'ref': 'dc_373418758266421313',\n",
       "  'dataContainer': {'type': 'Matrix', 'm': [[12, 14], [5, 12]]},\n",
       "  'metadata': {'time': '2023-08-18T17:12:09.000Z'},\n",
       "  'workspaceId': 'user_2Ti2VWLHrwCLUwGk12RVEBKVdur',\n",
       "  'privacy': 'private',\n",
       "  'location': '/',\n",
       "  'note': ''},\n",
       " {'ref': 'dc_373418732616155201',\n",
       "  'dataContainer': {'type': 'Matrix', 'm': [[12, 14], [5, 12]]},\n",
       "  'metadata': {'time': '2023-08-18T17:11:44.000Z'},\n",
       "  'workspaceId': 'user_2Ti2VWLHrwCLUwGk12RVEBKVdur',\n",
       "  'privacy': 'private',\n",
       "  'location': '/',\n",
       "  'note': ''},\n",
       " {'ref': 'dc_373411197776560193',\n",
       "  'dataContainer': {'type': 'Matrix', 'm': [[12, 14], [5, 12]]},\n",
       "  'metadata': {'time': '2023-08-18T15:11:58.000Z'},\n",
       "  'workspaceId': 'user_2Ti2VWLHrwCLUwGk12RVEBKVdur',\n",
       "  'privacy': 'private',\n",
       "  'location': '/',\n",
       "  'note': ''},\n",
       " {'ref': 'dc_373411128458346561',\n",
       "  'dataContainer': {'type': 'Matrix', 'm': [[12, 14], [5, 12]]},\n",
       "  'metadata': {'time': '2023-08-18T15:10:52.000Z'},\n",
       "  'workspaceId': 'user_2Ti2VWLHrwCLUwGk12RVEBKVdur',\n",
       "  'privacy': 'private',\n",
       "  'location': '/',\n",
       "  'note': ''},\n",
       " {'ref': 'dc_373411121434984516',\n",
       "  'dataContainer': {'type': 'Matrix', 'm': [[12, 14], [5, 12]]},\n",
       "  'metadata': {'time': '2023-08-18T15:10:45.000Z'},\n",
       "  'workspaceId': 'user_2Ti2VWLHrwCLUwGk12RVEBKVdur',\n",
       "  'privacy': 'private',\n",
       "  'location': '/',\n",
       "  'note': ''},\n",
       " {'ref': 'dc_373411060884963396',\n",
       "  'dataContainer': {'type': 'Matrix', 'm': [[12, 14], [5, 12]]},\n",
       "  'metadata': {'time': '2023-08-18T15:09:48.000Z'},\n",
       "  'workspaceId': 'user_2Ti2VWLHrwCLUwGk12RVEBKVdur',\n",
       "  'privacy': 'private',\n",
       "  'location': '/',\n",
       "  'note': ''},\n",
       " {'ref': 'dc_373410940558770244',\n",
       "  'dataContainer': {'type': 'Matrix', 'm': [[12, 14], [5, 12]]},\n",
       "  'metadata': {'time': '2023-08-18T15:07:53.000Z'},\n",
       "  'workspaceId': 'user_2Ti2VWLHrwCLUwGk12RVEBKVdur',\n",
       "  'privacy': 'private',\n",
       "  'location': '/',\n",
       "  'note': ''},\n",
       " {'ref': 'dc_373410871950442564',\n",
       "  'dataContainer': {'type': 'Matrix', 'm': [[12, 14], [5, 12]]},\n",
       "  'metadata': {'time': '2023-08-18T15:06:47.000Z'},\n",
       "  'workspaceId': 'user_2Ti2VWLHrwCLUwGk12RVEBKVdur',\n",
       "  'privacy': 'private',\n",
       "  'location': '/',\n",
       "  'note': ''},\n",
       " {'ref': 'dc_373410855599996996',\n",
       "  'dataContainer': {'type': 'Matrix', 'm': [[12, 14], [5, 12]]},\n",
       "  'metadata': {'time': '2023-08-18T15:06:32.000Z'},\n",
       "  'workspaceId': 'user_2Ti2VWLHrwCLUwGk12RVEBKVdur',\n",
       "  'privacy': 'private',\n",
       "  'location': '/',\n",
       "  'note': ''},\n",
       " {'ref': 'dc_373410756397367361',\n",
       "  'dataContainer': {'type': 'Matrix', 'm': [[12, 14], [5, 12]]},\n",
       "  'metadata': {'time': '2023-08-18T15:04:57.000Z'},\n",
       "  'workspaceId': 'user_2Ti2VWLHrwCLUwGk12RVEBKVdur',\n",
       "  'privacy': 'private',\n",
       "  'location': '/',\n",
       "  'note': ''},\n",
       " {'ref': 'dc_373410739316064321',\n",
       "  'dataContainer': {'type': 'Matrix', 'm': [[12, 14], [5, 12]]},\n",
       "  'metadata': {'time': '2023-08-18T15:04:41.000Z'},\n",
       "  'workspaceId': 'user_2Ti2VWLHrwCLUwGk12RVEBKVdur',\n",
       "  'privacy': 'private',\n",
       "  'location': '/',\n",
       "  'note': ''},\n",
       " {'ref': 'dc_373410727553138756',\n",
       "  'dataContainer': {'type': 'Matrix', 'm': [[12, 14], [5, 12]]},\n",
       "  'metadata': {'time': '2023-08-18T15:04:30.000Z'},\n",
       "  'workspaceId': 'user_2Ti2VWLHrwCLUwGk12RVEBKVdur',\n",
       "  'privacy': 'private',\n",
       "  'location': '/',\n",
       "  'note': ''},\n",
       " {'ref': 'dc_373410691520921668',\n",
       "  'dataContainer': {'type': 'Matrix', 'm': [[12, 14], [5, 12]]},\n",
       "  'metadata': {'time': '2023-08-18T15:03:55.000Z'},\n",
       "  'workspaceId': 'user_2Ti2VWLHrwCLUwGk12RVEBKVdur',\n",
       "  'privacy': 'private',\n",
       "  'location': '/',\n",
       "  'note': ''},\n",
       " {'ref': 'dc_373410675026821185',\n",
       "  'dataContainer': {'type': 'Matrix', 'm': [[12, 14], [5, 12]]},\n",
       "  'metadata': {'time': '2023-08-18T15:03:40.000Z'},\n",
       "  'workspaceId': 'user_2Ti2VWLHrwCLUwGk12RVEBKVdur',\n",
       "  'privacy': 'private',\n",
       "  'location': '/',\n",
       "  'note': ''},\n",
       " {'ref': 'dc_373410598876086340',\n",
       "  'dataContainer': {'type': 'Matrix', 'm': [[12, 14], [5, 12]]},\n",
       "  'metadata': {'time': '2023-08-18T15:02:27.000Z'},\n",
       "  'workspaceId': 'user_2Ti2VWLHrwCLUwGk12RVEBKVdur',\n",
       "  'privacy': 'private',\n",
       "  'location': '/',\n",
       "  'note': ''}]"
      ]
     },
     "execution_count": 2,
     "metadata": {},
     "output_type": "execute_result"
    }
   ],
   "source": [
    "remote = FlojoyCloud(apikey=apikey)\n",
    "\n",
    "remote.list_dcs(33)"
   ]
  },
  {
   "cell_type": "code",
   "execution_count": 5,
   "id": "c8ef98e7",
   "metadata": {},
   "outputs": [
    {
     "name": "stdout",
     "output_type": "stream",
     "text": [
      "{'workspaceId': 'user_2Ti2VWLHrwCLUwGk12RVEBKVdur', 'name': 'My Measurement', 'privacy': 'private', 'createdDate': '2023-08-18T20:05:35.000Z', 'updatedDate': '2023-08-18T20:05:35.000Z', 'ref': 'meas_373429670183436353', 'measurements': []}\n"
     ]
    }
   ],
   "source": [
    "import requests\n",
    "import json\n",
    "\n",
    "url = \"https://cloud.flojoy.ai/api/v1/measurements\"\n",
    "\n",
    "payload = json.dumps({\n",
    "  \"name\": \"My Measurement\",\n",
    "  \"privacy\": \"private\"\n",
    "})\n",
    "headers = {\n",
    "  'api_key': utils.get_credentials()[0][\"value\"],\n",
    "}\n",
    "\n",
    "response = requests.request(\"POST\", url, headers=headers, data=payload)\n",
    "\n",
    "print(json.loads(response.text))"
   ]
  },
  {
   "cell_type": "code",
   "execution_count": 6,
   "id": "901cc3d4",
   "metadata": {},
   "outputs": [
    {
     "name": "stdout",
     "output_type": "stream",
     "text": [
      "{}\n"
     ]
    }
   ],
   "source": [
    "import requests\n",
    "import json\n",
    "\n",
    "url = \"https://cloud.flojoy.ai/api/v1/measurements/meas_373429670183436353\"\n",
    "payload = json.dumps({\n",
    "  \"data\": {\n",
    "    \"type\": \"Matrix\",\n",
    "    \"m\": [\n",
    "      [\n",
    "        15,\n",
    "        14\n",
    "      ],\n",
    "      [\n",
    "        5,\n",
    "        12\n",
    "      ]\n",
    "    ]\n",
    "  }\n",
    "})\n",
    "headers = {\n",
    "  'api_key': utils.get_credentials()[0][\"value\"],\n",
    "  'Content-Type': 'application/json'\n",
    "}\n",
    "\n",
    "response = requests.request(\"POST\", url, headers=headers, data=payload)\n",
    "print(response.text)\n"
   ]
  },
  {
   "cell_type": "code",
   "execution_count": 7,
   "id": "49e79e3c",
   "metadata": {},
   "outputs": [
    {
     "name": "stdout",
     "output_type": "stream",
     "text": [
      "{\"workspaceId\":\"user_2Ti2VWLHrwCLUwGk12RVEBKVdur\",\"name\":\"My Measurement\",\"privacy\":\"private\",\"createdDate\":\"2023-08-18T20:05:35.000Z\",\"updatedDate\":\"2023-08-18T20:05:35.000Z\",\"ref\":\"meas_373429670183436353\",\"measurements\":[{\"id\":\"dc_373429974823075908\"}]}\n"
     ]
    }
   ],
   "source": [
    "import requests\n",
    "import json\n",
    "\n",
    "url = \"https://cloud.flojoy.ai/api/v1/measurements/meas_373429670183436353\"\n",
    "\n",
    "payload = \"\"\n",
    "headers = {\n",
    "  'api_key': utils.get_credentials()[0][\"value\"],\n",
    "  'Content-Type': 'application/json'\n",
    "}\n",
    "\n",
    "response = requests.request(\"GET\", url, headers=headers)\n",
    "\n",
    "print(response.text)"
   ]
  },
  {
   "cell_type": "code",
   "execution_count": 7,
   "id": "acb6052f",
   "metadata": {},
   "outputs": [
    {
     "name": "stdout",
     "output_type": "stream",
     "text": [
      "{'error': 'Validation error: Invalid discriminator value. Expected \\'Grayscale\\' | \\'Matrix\\' | \\'DataFrame\\' | \\'Image\\' | \\'Scalar\\' | \\'Vector\\' | \\'OrderedPair\\' | \\'OrderedTriple\\' | \\'Plotly\\' at \"data[91].dataContainer.type\"; Invalid discriminator value. Expected \\'Grayscale\\' | \\'Matrix\\' | \\'DataFrame\\' | \\'Image\\' | \\'Scalar\\' | \\'Vector\\' | \\'OrderedPair\\' | \\'OrderedTriple\\' | \\'Plotly\\' at \"data[92].dataContainer.type\"; Invalid discriminator value. Expected \\'Grayscale\\' | \\'Matrix\\' | \\'DataFrame\\' | \\'Image\\' | \\'Scalar\\' | \\'Vector\\' | \\'OrderedPair\\' | \\'OrderedTriple\\' | \\'Plotly\\' at \"data[93].dataContainer.type\"; Invalid discriminator value. Expected \\'Grayscale\\' | \\'Matrix\\' | \\'DataFrame\\' | \\'Image\\' | \\'Scalar\\' | \\'Vector\\' | \\'OrderedPair\\' | \\'OrderedTriple\\' | \\'Plotly\\' at \"data[94].dataContainer.type\"; Invalid discriminator value. Expected \\'Grayscale\\' | \\'Matrix\\' | \\'DataFrame\\' | \\'Image\\' | \\'Scalar\\' | \\'Vector\\' | \\'OrderedPair\\' | \\'OrderedTriple\\' | \\'Plotly\\' at \"data[95].dataContainer.type\"; Invalid discriminator value. Expected \\'Grayscale\\' | \\'Matrix\\' | \\'DataFrame\\' | \\'Image\\' | \\'Scalar\\' | \\'Vector\\' | \\'OrderedPair\\' | \\'OrderedTriple\\' | \\'Plotly\\' at \"data[96].dataContainer.type\"; Invalid discriminator value. Expected \\'Grayscale\\' | \\'Matrix\\' | \\'DataFrame\\' | \\'Image\\' | \\'Scalar\\' | \\'Vector\\' | \\'OrderedPair\\' | \\'OrderedTriple\\' | \\'Plotly\\' at \"data[97].dataContainer.type\"; Invalid discriminator value. Expected \\'Grayscale\\' | \\'Matrix\\' | \\'DataFrame\\' | \\'Image\\' | \\'Scalar\\' | \\'Vector\\' | \\'OrderedPair\\' | \\'OrderedTriple\\' | \\'Plotly\\' at \"data[98].dataContainer.type\"; Invalid discriminator value. Expected \\'Grayscale\\' | \\'Matrix\\' | \\'DataFrame\\' | \\'Image\\' | \\'Scalar\\' | \\'Vector\\' | \\'OrderedPair\\' | \\'OrderedTriple\\' | \\'Plotly\\' at \"data[99].dataContainer.type\"'}\n"
     ]
    }
   ],
   "source": [
    "headers = {\n",
    "  'api_key': utils.get_credentials()[0][\"value\"]\n",
    "}\n",
    "\n",
    "url = f\"https://cloud.flojoy.ai/api/v1/dcs/?inbox=true&size=100\"\n",
    "response = requests.request(\"GET\", url, headers=headers)\n",
    "response = json.loads(response.text)\n",
    "\n",
    "print(response)"
   ]
  },
  {
   "cell_type": "code",
   "execution_count": 6,
   "id": "4985ca05",
   "metadata": {},
   "outputs": [
    {
     "name": "stdout",
     "output_type": "stream",
     "text": [
      "{'data': [{'workspaceId': 'user_2Ti2VWLHrwCLUwGk12RVEBKVdur', 'name': 'default', 'privacy': 'private', 'createdDate': '2023-08-21T15:20:45.000Z', 'updatedDate': '2023-08-21T15:20:45.000Z', 'ref': 'meas_373683540687061057', 'measurements': []}, {'workspaceId': 'user_2Ti2VWLHrwCLUwGk12RVEBKVdur', 'name': 'default', 'privacy': 'private', 'createdDate': '2023-08-21T15:18:26.000Z', 'updatedDate': '2023-08-21T15:18:26.000Z', 'ref': 'meas_373683395547365444', 'measurements': []}, {'workspaceId': 'user_2Ti2VWLHrwCLUwGk12RVEBKVdur', 'name': 'default', 'privacy': 'private', 'createdDate': '2023-08-21T15:17:51.000Z', 'updatedDate': '2023-08-21T15:17:51.000Z', 'ref': 'meas_373683358912217156', 'measurements': []}, {'workspaceId': 'user_2Ti2VWLHrwCLUwGk12RVEBKVdur', 'name': 'default', 'privacy': 'private', 'createdDate': '2023-08-21T15:17:19.000Z', 'updatedDate': '2023-08-21T15:17:19.000Z', 'ref': 'meas_373683325584277572', 'measurements': []}, {'workspaceId': 'user_2Ti2VWLHrwCLUwGk12RVEBKVdur', 'name': 'default', 'privacy': 'private', 'createdDate': '2023-08-21T15:15:49.000Z', 'updatedDate': '2023-08-21T15:15:49.000Z', 'ref': 'meas_373683230958682177', 'measurements': []}, {'workspaceId': 'user_2Ti2VWLHrwCLUwGk12RVEBKVdur', 'name': 'default', 'privacy': 'private', 'createdDate': '2023-08-21T15:12:33.000Z', 'updatedDate': '2023-08-21T15:12:33.000Z', 'ref': 'meas_373683025384308804', 'measurements': []}, {'workspaceId': 'user_2Ti2VWLHrwCLUwGk12RVEBKVdur', 'name': 'default', 'privacy': 'private', 'createdDate': '2023-08-21T15:09:58.000Z', 'updatedDate': '2023-08-21T15:09:58.000Z', 'ref': 'meas_373682863088861252', 'measurements': []}, {'workspaceId': 'user_2Ti2VWLHrwCLUwGk12RVEBKVdur', 'name': 'My Measurement', 'privacy': 'private', 'createdDate': '2023-08-18T20:05:35.000Z', 'updatedDate': '2023-08-18T20:05:35.000Z', 'ref': 'meas_373429670183436353', 'measurements': [{'id': 'dc_373429974823075908'}]}, {'workspaceId': 'user_2Ti2VWLHrwCLUwGk12RVEBKVdur', 'name': 'My Measurement', 'privacy': 'private', 'createdDate': '2023-08-17T20:52:59.000Z', 'updatedDate': '2023-08-17T20:52:59.000Z', 'ref': 'meas_373342055224574020', 'measurements': []}, {'workspaceId': 'user_2Ti2VWLHrwCLUwGk12RVEBKVdur', 'name': 'My Measurement', 'privacy': 'private', 'createdDate': '2023-08-17T20:52:27.000Z', 'updatedDate': '2023-08-17T20:52:27.000Z', 'ref': 'meas_373342022486982721', 'measurements': [{'id': 'dc_373342050847817793'}]}, {'workspaceId': 'user_2Ti2VWLHrwCLUwGk12RVEBKVdur', 'name': 'My Measurement', 'privacy': 'private', 'createdDate': '2023-08-17T15:58:33.000Z', 'updatedDate': '2023-08-17T15:58:33.000Z', 'ref': 'meas_373323531109269572', 'measurements': []}, {'workspaceId': 'user_2Ti2VWLHrwCLUwGk12RVEBKVdur', 'name': 'My Measurement', 'privacy': 'private', 'createdDate': '2023-08-17T15:17:23.000Z', 'updatedDate': '2023-08-17T15:17:23.000Z', 'ref': 'meas_373320941855309889', 'measurements': [{'id': 'dc_373341991301283908'}]}]}\n"
     ]
    }
   ],
   "source": [
    "headers = {\n",
    "  'api_key': utils.get_credentials()[0][\"value\"]\n",
    "}\n",
    "\n",
    "url = f\"https://cloud.flojoy.ai/api/v1/measurements/?size=100\"\n",
    "response = requests.request(\"GET\", url, headers=headers)\n",
    "response = json.loads(response.text)\n",
    "\n",
    "print(response)"
   ]
  },
  {
   "cell_type": "code",
   "execution_count": null,
   "id": "8549f9b9",
   "metadata": {},
   "outputs": [],
   "source": []
  }
 ],
 "metadata": {
  "kernelspec": {
   "display_name": "Python 3 (ipykernel)",
   "language": "python",
   "name": "python3"
  },
  "language_info": {
   "codemirror_mode": {
    "name": "ipython",
    "version": 3
   },
   "file_extension": ".py",
   "mimetype": "text/x-python",
   "name": "python",
   "nbconvert_exporter": "python",
   "pygments_lexer": "ipython3",
   "version": "3.10.9"
  }
 },
 "nbformat": 4,
 "nbformat_minor": 5
}
